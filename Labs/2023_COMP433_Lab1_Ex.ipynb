{
 "cells": [
  {
   "cell_type": "markdown",
   "metadata": {
    "id": "gZ8rj_itne_8"
   },
   "source": [
    "# Lab 1 Exercises for COMP 433 (Deep Learning)\n",
    "\n",
    "In this lab we are going to go over some plotting and basic matrix operations, and their implementation in scientific computing toolkits. The goal is also to familarize you with Google Colab which will be used throught the course, so you can start to get comfortable with it. Colab offers free GPUs, which will be very helpful for this course.\n",
    "\n",
    "Start by making a **copy** of this notebook in your Google Colab.\n",
    "\n",
    "To make a copy;\n",
    "*   Go to \"File\", located in the top left\n",
    "*   Select \"Save a copy in Drive\".\n",
    "\n",
    "\n",
    "\n"
   ]
  },
  {
   "cell_type": "markdown",
   "metadata": {
    "id": "YkgGMWCauzi9"
   },
   "source": [
    "## Exercise 1: Hello there!\n",
    "\n",
    "For starters, run the line below!"
   ]
  },
  {
   "cell_type": "code",
   "execution_count": null,
   "metadata": {
    "colab": {
     "base_uri": "https://localhost:8080/"
    },
    "executionInfo": {
     "elapsed": 1619,
     "status": "ok",
     "timestamp": 1694457670873,
     "user": {
      "displayName": "Well Well",
      "userId": "15401998922910395076"
     },
     "user_tz": 240
    },
    "id": "3sLyrcnCuymG",
    "outputId": "108959ec-210f-40cf-c730-75761443b67f"
   },
   "outputs": [
    {
     "name": "stdout",
     "output_type": "stream",
     "text": [
      "Hello Colab\n"
     ]
    }
   ],
   "source": [
    "print('Hello Colab')"
   ]
  },
  {
   "cell_type": "markdown",
   "metadata": {
    "id": "Oz-si-bqotrP"
   },
   "source": [
    "---"
   ]
  },
  {
   "cell_type": "markdown",
   "metadata": {
    "id": "S02d9PimAZKJ"
   },
   "source": [
    "## Exercise 2: Plotting\n",
    "\n",
    "Consider the function\n",
    "$f(x)$ = $\\exp\\left(-(x-2)^2\\right)+\\exp\\left(-\\frac{(x-6)^2}{10}\\right)+\\frac{1}{x^2+1}$\n",
    "\n",
    "*   **Import** *pyplot* module from [matplotlib ](https://matplotlib.org/stable/api/_as_gen/matplotlib.pyplot.html) as plt\n",
    "\n",
    "*  **Use** [np.linspace](https://numpy.org/doc/stable/reference/generated/numpy.linspace.html) to sample the points in the interval [-10,10]\n",
    "\n",
    "*  **Plot** the function $f(x)$ in the range $[-10,10]$ using matplotlib\n",
    "\n",
    "*  **Use** plt.xlabel, plt.ylabel, and plt.title appropriately.\n",
    "\n",
    "*   Try and get comfortable with creating functions wherever you think is necessary.\n",
    "\n",
    "Your plot should look something like this.\n",
    "\n",
    "<img src='https://drive.google.com/uc?id=1fviWqemVN7qz06cBx4leI0XJ9o_fOZS2' width=\"350\" height=\"200\" class=\"center\">\n"
   ]
  },
  {
   "cell_type": "code",
   "execution_count": 2,
   "metadata": {
    "colab": {
     "base_uri": "https://localhost:8080/",
     "height": 489
    },
    "executionInfo": {
     "elapsed": 350,
     "status": "ok",
     "timestamp": 1694462248687,
     "user": {
      "displayName": "Motaz Yasser",
      "userId": "15366186365234721318"
     },
     "user_tz": 240
    },
    "id": "7GLUHKx2ymEE",
    "outputId": "a824664a-15a4-49d1-f729-078eda6065c5"
   },
   "outputs": [
    {
     "data": {
      "text/plain": [
       "Text(0.5, 1.0, 'f(x) = exp(-(x-2)^2) + exp(-((x - 6)^2/10)) + 1/(x^2 + 1)')"
      ]
     },
     "execution_count": 2,
     "metadata": {},
     "output_type": "execute_result"
    },
    {
     "data": {
      "image/png": "[encoded data removed]",
      "text/plain": [
       "<Figure size 432x288 with 1 Axes>"
      ]
     },
     "metadata": {
      "needs_background": "light"
     },
     "output_type": "display_data"
    }
   ],
   "source": [
    "#Your answer here\n",
    "import numpy as np\n",
    "import matplotlib.pyplot as plt\n",
    "\n",
    "#Plot with matplotlib\n",
    "x = np.linspace(-10, 10, 200)\n",
    "f_x = np.exp(-(x - 2)**2) + np.exp(-0.1 * (x - 6)**2) + 1/(x**2 + 1.0)\n",
    "\n",
    "plt.figure()\n",
    "plt.plot(x, f_x)\n",
    "plt.xlabel('xxxx')\n",
    "plt.ylabel('f(x)')\n",
    "plt.title('f(x) = exp(-(x-2)^2) + exp(-((x - 6)^2/10)) + 1/(x^2 + 1)')"
   ]
  },
  {
   "cell_type": "markdown",
   "metadata": {
    "id": "8yYHKQwjoxSn"
   },
   "source": [
    "---"
   ]
  },
  {
   "cell_type": "markdown",
   "metadata": {
    "id": "aDfbqtKuveLv"
   },
   "source": [
    "## Exercise 3: Numpy Matrix operations\n",
    "\n",
    "Numpy is a library that implements efficient operations on arrays, the syntax is similar to Pytorch, which we will use in the later part of this course.\n",
    "\n",
    "Be sure to read up on the [np.ndarray](https://numpy.org/doc/stable/reference/generated/numpy.ndarray.html) object; this object is often used in scientific computing."
   ]
  },
  {
   "cell_type": "markdown",
   "metadata": {
    "id": "e4VU934oPSpF"
   },
   "source": [
    "(a) First create two numpy ndarray A and B given as\n",
    "$$A =\n",
    " \\begin{pmatrix}\n",
    "  1& 2 & 3 \\\\\n",
    "  4 & 5 & 6 \\\\\n",
    "  8 & 9  & 10 \\\\\n",
    " \\end{pmatrix}$$\n",
    "\n",
    " $$B =\n",
    " \\begin{pmatrix}\n",
    "  5& 3 & 4 \\\\\n",
    "  2 & 1 & 2 \\\\\n",
    "  3 & 3  & 1 \\\\\n",
    " \\end{pmatrix}$$\n",
    "\n",
    " and index the 1st row, 2nd column entry of A and the 1st row of B (Note: Python indexing starts at 0)"
   ]
  },
  {
   "cell_type": "code",
   "execution_count": 7,
   "metadata": {
    "colab": {
     "base_uri": "https://localhost:8080/"
    },
    "executionInfo": {
     "elapsed": 193,
     "status": "ok",
     "timestamp": 1694462635829,
     "user": {
      "displayName": "Motaz Yasser",
      "userId": "15366186365234721318"
     },
     "user_tz": 240
    },
    "id": "pV4VKRTEvjMD",
    "outputId": "346bc374-7b5e-481b-921d-d7ba4066710e"
   },
   "outputs": [
    {
     "name": "stdout",
     "output_type": "stream",
     "text": [
      "[[1 2 3]\n",
      " [4 5 6]\n",
      " [7 8 9]]\n",
      "[[5 3 4]\n",
      " [2 1 2]\n",
      " [3 3 1]]\n",
      "2\n",
      "[5 3 4]\n"
     ]
    }
   ],
   "source": [
    "#Create a matrix by hand\n",
    "import numpy as np\n",
    "# Your code\n",
    "\n",
    "A = np.array([[1, 2, 3], [4, 5, 6], [7, 8, 9]])\n",
    "B = np.array([[5, 3, 4], [2, 1, 2], [3, 3, 1]])\n",
    "\n",
    "print(A)\n",
    "print(B)\n",
    "\n",
    "#print 0,1 entry of A\n",
    "print(A[0, 1])\n",
    "\n",
    "#print 0th row of B\n",
    "print(B[0])"
   ]
  },
  {
   "cell_type": "markdown",
   "metadata": {
    "id": "9rKfE7WexUR1"
   },
   "source": [
    "-----"
   ]
  },
  {
   "cell_type": "markdown",
   "metadata": {
    "id": "qjCEhAJhQdvY"
   },
   "source": [
    "(b) Perform a matrix multiply of A and B"
   ]
  },
  {
   "cell_type": "code",
   "execution_count": null,
   "metadata": {
    "colab": {
     "base_uri": "https://localhost:8080/"
    },
    "executionInfo": {
     "elapsed": 35,
     "status": "ok",
     "timestamp": 1694457670876,
     "user": {
      "displayName": "Well Well",
      "userId": "15401998922910395076"
     },
     "user_tz": 240
    },
    "id": "Ept8Q4nWQh1k",
    "outputId": "b1cb30e1-db15-45a4-bdc8-e58896dfc2bc"
   },
   "outputs": [
    {
     "name": "stdout",
     "output_type": "stream",
     "text": [
      "[[18 14 11]\n",
      " [48 35 32]\n",
      " [78 56 53]]\n"
     ]
    }
   ],
   "source": [
    "#Your code\n",
    "\n",
    "print(np.matmul(A, B))"
   ]
  },
  {
   "cell_type": "markdown",
   "metadata": {
    "id": "ysKsPX3QzO17"
   },
   "source": [
    "-----"
   ]
  },
  {
   "cell_type": "markdown",
   "metadata": {
    "id": "sNgu-TQXQmqL"
   },
   "source": [
    "(c) Perform an elementwise multiplication of A and B"
   ]
  },
  {
   "cell_type": "code",
   "execution_count": null,
   "metadata": {
    "colab": {
     "base_uri": "https://localhost:8080/"
    },
    "executionInfo": {
     "elapsed": 33,
     "status": "ok",
     "timestamp": 1694457670877,
     "user": {
      "displayName": "Well Well",
      "userId": "15401998922910395076"
     },
     "user_tz": 240
    },
    "id": "u8wit762QxON",
    "outputId": "50edd3ee-fb87-4cf4-b337-8a2726fdffbe"
   },
   "outputs": [
    {
     "name": "stdout",
     "output_type": "stream",
     "text": [
      "[[ 5  6 12]\n",
      " [ 8  5 12]\n",
      " [21 24  9]]\n"
     ]
    }
   ],
   "source": [
    "elementwise_mult_A_B = A*B\n",
    "print(A*B)"
   ]
  },
  {
   "cell_type": "markdown",
   "metadata": {
    "id": "TKtlVn3B0HdY"
   },
   "source": [
    "----"
   ]
  },
  {
   "cell_type": "markdown",
   "metadata": {
    "id": "ZX5AGGPcQ0-E"
   },
   "source": [
    "(d) Perform an elementwise operation on the matrix A that sets all values in A that are greater than 5 to 0, use logical indexing for this avoiding for loops"
   ]
  },
  {
   "cell_type": "code",
   "execution_count": 9,
   "metadata": {
    "colab": {
     "base_uri": "https://localhost:8080/"
    },
    "executionInfo": {
     "elapsed": 6,
     "status": "ok",
     "timestamp": 1694463343107,
     "user": {
      "displayName": "Motaz Yasser",
      "userId": "15366186365234721318"
     },
     "user_tz": 240
    },
    "id": "orTf9iW3RRgK",
    "outputId": "9f416af8-3d78-45a4-89e1-df860d91e814"
   },
   "outputs": [
    {
     "name": "stdout",
     "output_type": "stream",
     "text": [
      "[[False False False]\n",
      " [False False False]\n",
      " [False False False]]\n",
      "[[1 2 3]\n",
      " [4 5 0]\n",
      " [0 0 0]]\n"
     ]
    }
   ],
   "source": [
    "A[A > 5] = 0\n",
    "print(A>5)\n",
    "print(A)"
   ]
  },
  {
   "cell_type": "markdown",
   "metadata": {
    "id": "rSuZ1HJb0QIy"
   },
   "source": [
    "----\n"
   ]
  },
  {
   "cell_type": "markdown",
   "metadata": {
    "id": "5qAHAeEyRR6v"
   },
   "source": [
    "(e) Perform an elementwise operation that returns the cosine of each element in A and B."
   ]
  },
  {
   "cell_type": "code",
   "execution_count": null,
   "metadata": {
    "colab": {
     "base_uri": "https://localhost:8080/"
    },
    "executionInfo": {
     "elapsed": 28,
     "status": "ok",
     "timestamp": 1694457670878,
     "user": {
      "displayName": "Well Well",
      "userId": "15401998922910395076"
     },
     "user_tz": 240
    },
    "id": "K4lDdymCRrPS",
    "outputId": "05b2a2bb-211e-4dae-ec93-4b6bc540db10"
   },
   "outputs": [
    {
     "name": "stdout",
     "output_type": "stream",
     "text": [
      "[[ 0.54030231 -0.41614684 -0.9899925 ]\n",
      " [-0.65364362  0.28366219  1.        ]\n",
      " [ 1.          1.          1.        ]]\n",
      "[[ 0.28366219 -0.9899925  -0.65364362]\n",
      " [-0.41614684  0.54030231 -0.41614684]\n",
      " [-0.9899925  -0.9899925   0.54030231]]\n"
     ]
    }
   ],
   "source": [
    "print(np.cos(A))\n",
    "print(np.cos(B))"
   ]
  },
  {
   "cell_type": "markdown",
   "metadata": {
    "id": "yjINr4as0zye"
   },
   "source": [
    "-----"
   ]
  },
  {
   "cell_type": "markdown",
   "metadata": {
    "id": "xwHOHx13RyME"
   },
   "source": [
    "(f) Create two random matrices of size 3x3 using numpy.random.randn  and perform a matrix multiply"
   ]
  },
  {
   "cell_type": "code",
   "execution_count": 4,
   "metadata": {
    "colab": {
     "base_uri": "https://localhost:8080/"
    },
    "executionInfo": {
     "elapsed": 25,
     "status": "ok",
     "timestamp": 1694457670878,
     "user": {
      "displayName": "Well Well",
      "userId": "15401998922910395076"
     },
     "user_tz": 240
    },
    "id": "SUDGmtJuR1cJ",
    "outputId": "f5c02c66-5b4b-48ee-a1ab-74f7294e336d"
   },
   "outputs": [
    {
     "name": "stdout",
     "output_type": "stream",
     "text": [
      "[[ 0.67326397  1.15748936 -0.47994976]\n",
      " [ 0.06910063  1.03645376  0.45641219]\n",
      " [-0.78639845 -0.05806016  0.31153586]] \n",
      "\n",
      "[[ 0.57623718  0.16263578  1.2551371 ]\n",
      " [-1.60875145  0.04595332  0.86029453]\n",
      " [ 0.90173199  1.87053234  1.15694653]] \n",
      "\n",
      "[[-1.90693899 -0.73507424  1.28554415]\n",
      " [-1.21601665  0.9126005   1.50643076]\n",
      " [-0.07882581  0.45217331 -0.67655637]]\n"
     ]
    }
   ],
   "source": [
    "C = np.random.randn(3, 3)\n",
    "D = np.random.randn(3, 3)\n",
    "\n",
    "print(C, '\\n')\n",
    "print(D, '\\n')\n",
    "\n",
    "print(np.matmul(C, D))"
   ]
  },
  {
   "cell_type": "markdown",
   "metadata": {
    "id": "EVWssnB11Gm7"
   },
   "source": [
    "-----"
   ]
  },
  {
   "cell_type": "markdown",
   "metadata": {
    "id": "foCfmVx68-K-"
   },
   "source": [
    "(g) Perform the following:\n",
    "\n",
    "1. Take the diagonals of both A and B using [np.diagonal](https://numpy.org/doc/stable/reference/generated/numpy.diagonal.html) and concatenate them on top of each other using [np.vstack](https://numpy.org/doc/stable/reference/generated/numpy.vstack.html) to creata a 2x3 matrix.\n",
    "2. Flatten the obtained matrix above. Your output should have shape `(6,)`."
   ]
  },
  {
   "cell_type": "markdown",
   "metadata": {
    "id": "gX5BWTha9C-n"
   },
   "source": [
    "-----"
   ]
  },
  {
   "cell_type": "code",
   "execution_count": 12,
   "metadata": {
    "colab": {
     "base_uri": "https://localhost:8080/"
    },
    "executionInfo": {
     "elapsed": 197,
     "status": "ok",
     "timestamp": 1694463771574,
     "user": {
      "displayName": "Motaz Yasser",
      "userId": "15366186365234721318"
     },
     "user_tz": 240
    },
    "id": "R8U0y9BGP0uj",
    "outputId": "46a7629b-6db8-42c8-e2a5-fca3515994b3"
   },
   "outputs": [
    {
     "name": "stdout",
     "output_type": "stream",
     "text": [
      "[[1 2 3]\n",
      " [4 5 0]\n",
      " [0 0 0]]\n",
      "[[5 3 4]\n",
      " [2 1 2]\n",
      " [3 3 1]]\n",
      "\n",
      "\n",
      "[1 5 0] \n",
      "\n",
      "[5 1 1] \n",
      "\n",
      "[[1 5 0]\n",
      " [5 1 1]] \n",
      "\n",
      "[[1]\n",
      " [5]\n",
      " [0]\n",
      " [5]\n",
      " [1]\n",
      " [1]]\n"
     ]
    }
   ],
   "source": [
    "A_diag = np.diagonal(A)\n",
    "B_diag = np.diagonal(B)\n",
    "print(A)\n",
    "print(B)\n",
    "print(\"\\n\")\n",
    "print(A_diag, '\\n')\n",
    "print(B_diag, '\\n')\n",
    "\n",
    "v = np.vstack((A_diag, B_diag))\n",
    "print(v, '\\n')\n",
    "\n",
    "print(v.reshape(-1, 1))"
   ]
  },
  {
   "cell_type": "markdown",
   "metadata": {
    "id": "U1Tyezzp8-LF"
   },
   "source": [
    "(h)\n",
    "\n",
    "1. Create the following vector:\n",
    "$$\n",
    "v = \\begin{pmatrix}\n",
    "0.5\\\\\n",
    "3.5\\\\\n",
    "8.25\n",
    "\\end{pmatrix}\n",
    "$$\n",
    "\n",
    "(This vector should have `(3, 1)` shape.)\n",
    "\n",
    "2. Create a function that adds $v$ to every **row** of matrix $A$. This is an element-wise operation. Your function should return your additions in a stacked array\n",
    "    - (Optional): Use, at most, 1 loop and avoid nesting loops."
   ]
  },
  {
   "cell_type": "markdown",
   "metadata": {
    "id": "Kxd-7wpcaPAJ"
   },
   "source": [
    "-----"
   ]
  },
  {
   "cell_type": "code",
   "execution_count": null,
   "metadata": {
    "colab": {
     "base_uri": "https://localhost:8080/"
    },
    "executionInfo": {
     "elapsed": 21,
     "status": "ok",
     "timestamp": 1694457670880,
     "user": {
      "displayName": "Well Well",
      "userId": "15401998922910395076"
     },
     "user_tz": 240
    },
    "id": "u2qa5tyiP0CT",
    "outputId": "7baea383-90ff-4033-fdf0-3ed0db6c3065"
   },
   "outputs": [
    {
     "name": "stdout",
     "output_type": "stream",
     "text": [
      "(3, 1) [[0.5 ]\n",
      " [3.5 ]\n",
      " [8.25]] \n",
      "\n",
      "[[1 2 3]\n",
      " [4 5 0]\n",
      " [0 0 0]] \n",
      "\n",
      "[[1.5  2.5  3.5 ]\n",
      " [7.5  8.5  3.5 ]\n",
      " [8.25 8.25 8.25]]\n"
     ]
    }
   ],
   "source": [
    "vec = np.array([[0.5], [3.5], [8.25]])\n",
    "\n",
    "print(vec.shape, vec, '\\n')\n",
    "\n",
    "print(A, '\\n')\n",
    "\n",
    "print(A + vec)\n"
   ]
  },
  {
   "cell_type": "markdown",
   "metadata": {
    "id": "Bul18b6ndios"
   },
   "source": [
    "(i) Consider the vector\n",
    "$$\n",
    "x =\n",
    "\\begin{pmatrix}\n",
    "0.87 \\\\\n",
    "1.23\n",
    "\\end{pmatrix}\n",
    "$$\n",
    "\n",
    "and the matrix\n",
    "$$\n",
    "O =\n",
    "\\begin{pmatrix}\n",
    "1.2 & 2.3 \\\\\n",
    "-1.6 & 4.56\\\\\n",
    "0.2 & -12.3 \\\\\n",
    "8.6 & 4.56\\\\\n",
    "7.9 & -99.2 \\\\\n",
    "0.4 & -6.7\\\\\n",
    "-8.5 & 2.4\n",
    "\\end{pmatrix}\n",
    "$$\n",
    "\n",
    "The vector $D$ of distances is defined by the equation\n",
    "\n",
    "$$\n",
    "D_i = \\sqrt{\\sum_j\\left(O_{ij} - x_j\\right)^2}\n",
    "$$\n",
    "\n",
    "1. Compute the vector of distances $D$\n",
    "\n",
    "2. (optional) Create a function that, given any arbitrary matrix $M$ and vector $v$ given an integer $k$, returns the $k$ closest rows in $M$ to $v$. First, compute the vector of distances, then search the result for the $k$ closest rows."
   ]
  },
  {
   "cell_type": "code",
   "execution_count": null,
   "metadata": {
    "colab": {
     "base_uri": "https://localhost:8080/"
    },
    "executionInfo": {
     "elapsed": 18,
     "status": "ok",
     "timestamp": 1694457670880,
     "user": {
      "displayName": "Well Well",
      "userId": "15401998922910395076"
     },
     "user_tz": 240
    },
    "id": "K5epSPnam3fB",
    "outputId": "3fcc6bc3-7aff-4f94-e7a4-8e2a51363398"
   },
   "outputs": [
    {
     "name": "stdout",
     "output_type": "stream",
     "text": [
      "[[0.87]\n",
      " [1.23]] \n",
      "\n",
      "[[  1.2    2.3 ]\n",
      " [ -1.6    4.56]\n",
      " [  0.2  -12.3 ]\n",
      " [  8.6    4.56]\n",
      " [  7.9  -99.2 ]\n",
      " [  0.4   -6.7 ]\n",
      " [ -8.5    2.4 ]] \n",
      "\n",
      "[  1.11973211   4.14605837  13.5465789    8.4167571  100.67574584\n",
      "   7.94391591   9.44276443] \n",
      "\n",
      "[[ 1.2   2.3 ]\n",
      " [-1.6   4.56]\n",
      " [ 0.4  -6.7 ]]\n"
     ]
    }
   ],
   "source": [
    "x = np.array([0.87, 1.23]).reshape(-1, 1)\n",
    "print(x, '\\n')\n",
    "\n",
    "O = np.array([[1.2, 2.3], [-1.6, 4.56], [0.2, -12.3], [8.6, 4.56], [7.9, -99.2], [0.4, -6.7], [-8.5, 2.4]])\n",
    "print(O, '\\n')\n",
    "\n",
    "D = np.sqrt(np.sum((O - x.T) ** 2, axis=-1))\n",
    "print(D, '\\n')\n",
    "\n",
    "# Signature for 2nd part\n",
    "def k_closest(M, v, k):\n",
    "    ## your code goes here\n",
    "    dist = np.sqrt(np.sum((M - v.T) ** 2, axis=-1))\n",
    "\n",
    "    closest = np.argsort(dist)[:k]\n",
    "\n",
    "    return M[closest, :]\n",
    "\n",
    "print(k_closest(O, x, 3))\n"
   ]
  },
  {
   "cell_type": "markdown",
   "metadata": {
    "id": "eY2ehTiQnHVJ"
   },
   "source": [
    "-----"
   ]
  },
  {
   "cell_type": "markdown",
   "metadata": {
    "id": "Ge_rS8wdRrqX"
   },
   "source": [
    "## Exercise 4: PyTorch Matrix Operations (Optional)\n",
    "\n",
    "Repeat the above (a)-(e) using pytorch"
   ]
  },
  {
   "cell_type": "code",
   "execution_count": null,
   "metadata": {
    "colab": {
     "base_uri": "https://localhost:8080/"
    },
    "executionInfo": {
     "elapsed": 4460,
     "status": "ok",
     "timestamp": 1694457675324,
     "user": {
      "displayName": "Well Well",
      "userId": "15401998922910395076"
     },
     "user_tz": 240
    },
    "id": "tLDzIxvWEWM3",
    "outputId": "aa960411-ece2-49af-b296-d783adad5b74"
   },
   "outputs": [
    {
     "name": "stdout",
     "output_type": "stream",
     "text": [
      "tensor([[1, 2, 3],\n",
      "        [4, 5, 6],\n",
      "        [7, 8, 9]])\n",
      "tensor([[5, 3, 4],\n",
      "        [2, 1, 2],\n",
      "        [3, 3, 1]])\n",
      "tensor(2)\n",
      "tensor([5, 3, 4])\n"
     ]
    }
   ],
   "source": [
    "#Create a matrix by hand\n",
    "import torch\n",
    "# Your code\n",
    "\n",
    "A = torch.tensor([[1, 2, 3], [4, 5, 6], [7, 8, 9]])\n",
    "B = torch.tensor([[5, 3, 4], [2, 1, 2], [3, 3, 1]])\n",
    "\n",
    "print(A)\n",
    "print(B)\n",
    "\n",
    "#print 0,1 entry of A\n",
    "print(A[0, 1])\n",
    "\n",
    "#print 0th row of B\n",
    "print(B[0])"
   ]
  },
  {
   "cell_type": "code",
   "execution_count": null,
   "metadata": {
    "id": "TK0qmhvcErs2"
   },
   "outputs": [],
   "source": []
  }
 ],
 "metadata": {
  "accelerator": "GPU",
  "colab": {
   "gpuType": "T4",
   "provenance": []
  },
  "kernelspec": {
   "display_name": "Python 3 (ipykernel)",
   "language": "python",
   "name": "python3"
  },
  "language_info": {
   "codemirror_mode": {
    "name": "ipython",
    "version": 3
   },
   "file_extension": ".py",
   "mimetype": "text/x-python",
   "name": "python",
   "nbconvert_exporter": "python",
   "pygments_lexer": "ipython3",
   "version": "3.9.5"
  }
 },
 "nbformat": 4,
 "nbformat_minor": 1
}
